{
 "cells": [
  {
   "cell_type": "code",
   "execution_count": null,
   "id": "1ee43dcd",
   "metadata": {},
   "outputs": [],
   "source": [
    "# a. How often does the candidate who raised more money win a race?\n",
    "# b. How often does the candidate who spent more money win a race?\n",
    "# c. Does the difference between either money raised or money spent seem to influence the likelihood of a candidate winning a race?\n",
    "# d. How often does the incumbent candidate win a race?\n",
    "# e. Can you detect any relationship between amount of money raised and the incumbent status of a candidate?"
   ]
  },
  {
   "cell_type": "code",
   "execution_count": 1,
   "id": "e4de61ce",
   "metadata": {},
   "outputs": [],
   "source": [
    "# import packages\n",
    "import pandas as pd\n",
    "import numpy as np\n",
    "import matplotlib.pyplot as plt\n",
    "import seaborn as sns"
   ]
  },
  {
   "cell_type": "code",
   "execution_count": null,
   "id": "d138f1c3",
   "metadata": {},
   "outputs": [],
   "source": [
    "# a) How often does the candidate who raised more money win a race?\n",
    "# need to group by state and district"
   ]
  }
 ],
 "metadata": {
  "kernelspec": {
   "display_name": "Python 3 (ipykernel)",
   "language": "python",
   "name": "python3"
  },
  "language_info": {
   "codemirror_mode": {
    "name": "ipython",
    "version": 3
   },
   "file_extension": ".py",
   "mimetype": "text/x-python",
   "name": "python",
   "nbconvert_exporter": "python",
   "pygments_lexer": "ipython3",
   "version": "3.11.4"
  }
 },
 "nbformat": 4,
 "nbformat_minor": 5
}
